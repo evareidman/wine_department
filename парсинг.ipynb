{
 "cells": [
  {
   "cell_type": "code",
   "execution_count": 2,
   "id": "8b97f5e0",
   "metadata": {},
   "outputs": [],
   "source": [
    "import requests\n",
    "from bs4 import BeautifulSoup\n",
    "import time\n",
    "import csv\n",
    "import pandas as pd"
   ]
  },
  {
   "cell_type": "code",
   "execution_count": 3,
   "id": "436fdbae",
   "metadata": {},
   "outputs": [],
   "source": [
    "headers = {}\n",
    "\n",
    "# try except решениe gpt для избежания ошибок в парсере\n",
    "def get_wine_data(url):\n",
    "    response = requests.get(url, headers=headers)\n",
    "    soup = BeautifulSoup(response.text, \"lxml\")\n",
    "    \n",
    "    name = year = country = sugar = price = rating = review_count = None\n",
    "    \n",
    "    try:\n",
    "        head = soup.find('div', class_='product-page__head')\n",
    "        head_info = head.find('h1', class_='product-page__header').text.strip().split(', ')\n",
    "        name = ', '.join(head_info[:-1])\n",
    "        year = int(head_info[-1].replace(' г.', ''))\n",
    "    except:\n",
    "        pass\n",
    "    \n",
    "    try:\n",
    "        country_elem = soup.select_one(\"dd.product-brief__value\")\n",
    "        if country_elem:\n",
    "            country = country_elem.get_text(strip=True).split(\", \")[0]\n",
    "    except:\n",
    "        pass\n",
    "    \n",
    "    try:\n",
    "        sugar_elem = soup.select(\"dd.product-brief__value\")[3]\n",
    "        if sugar_elem:\n",
    "            sugar = sugar_elem.get_text(strip=True).split(\": \")[1].capitalize()\n",
    "    except:\n",
    "        pass\n",
    "    \n",
    "    try:\n",
    "        price = soup.find('div', class_='product-buy__price').text.strip().split()\n",
    "        price = ''.join(price[:2]).replace('₽', '')\n",
    "        price = int(price)\n",
    "    except:\n",
    "        pass\n",
    "    \n",
    "    try:\n",
    "        rating_box = soup.select_one(\"div.rating-stars__wrapper.js-product-scroll-to\")\n",
    "        if rating_box:\n",
    "            rating = float(rating_box.select_one(\"p.rating-stars__value\").get_text(strip=True).replace(\",\", \".\"))\n",
    "            review_count_elem = rating_box.select_one(\"span.rating-stars__reviews-count\")\n",
    "            if review_count_elem:\n",
    "                review_count = int(review_count_elem.get_text(strip=True).split()[0])\n",
    "    except:\n",
    "        pass\n",
    "        \n",
    "    return [name, year, country, sugar, price, rating, review_count]"
   ]
  },
  {
   "cell_type": "code",
   "execution_count": 4,
   "id": "bb18bba8",
   "metadata": {},
   "outputs": [],
   "source": [
    "def get_wine_urls(page):\n",
    "    urls = []\n",
    "    url = f\"https://simplewine.ru/catalog/vino/page{page}\"\n",
    "    response = requests.get(url, headers=headers)\n",
    "    soup = BeautifulSoup(response.text, \"lxml\")\n",
    "    wine_items = soup.find_all(\"div\", class_=\"catalog-grid__item\")\n",
    "    for wine_item in wine_items:\n",
    "        wine_url = \"https://simplewine.ru\" + wine_item.find(\"a\").get(\"href\")\n",
    "        urls.append(wine_url)\n",
    "    return urls"
   ]
  },
  {
   "cell_type": "code",
   "execution_count": 5,
   "id": "212de030",
   "metadata": {},
   "outputs": [],
   "source": [
    "def save_to_csv(data, filename):\n",
    "    with open(filename, \"a+\", encoding=\"utf-8\", newline=\"\") as file:\n",
    "        writer = csv.writer(file)\n",
    "        writer.writerow([\"Имя\", \"Год\", \"Страна\", \"Сахар\", \"Цена\", \"Рейтинг\", \"Количество отзывов\"])\n",
    "        writer.writerows(data)"
   ]
  },
  {
   "cell_type": "code",
   "execution_count": 7,
   "id": "e5972e9a",
   "metadata": {},
   "outputs": [],
   "source": [
    "if __name__ == \"__main__\": # gpt придумал для оптимизации\n",
    "    data = []\n",
    "    for page in range(1, 41):\n",
    "        urls = get_wine_urls(page)\n",
    "        for url in urls:\n",
    "            wine_data = get_wine_data(url)\n",
    "            data.append(wine_data)\n",
    "            time.sleep(2)\n",
    "    save_to_csv(data, \"simplewine.csv\")"
   ]
  }
 ],
 "metadata": {
  "kernelspec": {
   "display_name": "Python 3 (ipykernel)",
   "language": "python",
   "name": "python3"
  },
  "language_info": {
   "codemirror_mode": {
    "name": "ipython",
    "version": 3
   },
   "file_extension": ".py",
   "mimetype": "text/x-python",
   "name": "python",
   "nbconvert_exporter": "python",
   "pygments_lexer": "ipython3",
   "version": "3.9.7"
  }
 },
 "nbformat": 4,
 "nbformat_minor": 5
}
